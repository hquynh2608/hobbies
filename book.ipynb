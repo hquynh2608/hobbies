{
 "cells": [
  {
   "cell_type": "code",
   "execution_count": null,
   "id": "2d3c0aaf",
   "metadata": {},
   "outputs": [],
   "source": [
    "reply1988\n",
    "reply1997\n",
    "ba chang ngoc\n",
    "you are my glory\n",
    "am muu ngay tan the\n",
    "tam sinh tam the\n",
    "three kingdom\n",
    "life of pi\n",
    "gone with the wind\n",
    "tuoi tre dang gia bao nhieu"
   ]
  }
 ],
 "metadata": {
  "kernelspec": {
   "display_name": "Python 3",
   "language": "python",
   "name": "python3"
  },
  "language_info": {
   "codemirror_mode": {
    "name": "ipython",
    "version": 3
   },
   "file_extension": ".py",
   "mimetype": "text/x-python",
   "name": "python",
   "nbconvert_exporter": "python",
   "pygments_lexer": "ipython3",
   "version": "3.8.8"
  }
 },
 "nbformat": 4,
 "nbformat_minor": 5
}
