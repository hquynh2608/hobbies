{
 "cells": [
  {
   "cell_type": "code",
   "execution_count": null,
   "id": "1cc1a1dc",
   "metadata": {},
   "outputs": [],
   "source": [
    "Lala\n",
    "The Playah\n",
    "Ok\n",
    "Helo\n",
    "Nàng thơ\n",
    "Thức giấc\n",
    "Thanh xuân\n",
    "Lost\n",
    "Gone\n",
    "Yêu 5"
   ]
  }
 ],
 "metadata": {
  "kernelspec": {
   "display_name": "Python 3",
   "language": "python",
   "name": "python3"
  },
  "language_info": {
   "codemirror_mode": {
    "name": "ipython",
    "version": 3
   },
   "file_extension": ".py",
   "mimetype": "text/x-python",
   "name": "python",
   "nbconvert_exporter": "python",
   "pygments_lexer": "ipython3",
   "version": "3.8.8"
  }
 },
 "nbformat": 4,
 "nbformat_minor": 5
}
